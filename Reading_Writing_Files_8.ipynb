{
 "cells": [
  {
   "cell_type": "markdown",
   "metadata": {},
   "source": [
    "# <center>Reading and Writing Files</center>\n",
    "\n",
    "**open()** returns a file object, and is most commonly used with two arguments: **open(filename, mode)**\n",
    "\n",
    "- **r**: Opens a file for reading only. This is the default mode.\n",
    "- **rb**: Opens a file for reading only in binary format.\n",
    "- **r+**: Opens a file for both reading and writing.\n",
    "- **rb+**: Opens a file for both reading and writing in binary format.\n",
    "- **w**: Opens a file for writing only. Overwrites the file if the file exists. If the file does not exist, creates a new file for writing.\n",
    "- **wb**: Opens a file for writing only in binary format. Overwrites the file if the file exists. If the file does not exist, creates a new file for writing.\n",
    "- **w+**: Opens a file for both writing and reading. Overwrites the existing file if the file exists. If the file does not exist, creates a new file for reading and writing.\n",
    "- **wb+**: Opens a file for both writing and reading in binary format. Overwrites the existing file if the file exists. If the file does not exist, creates a new file for reading and writing.\n",
    "- **a**: Opens a file for appending. The file pointer is at the end of the file if the file exists. That is, the file is in the append mode. If the file does not exist, it creates a new file for writing.\n",
    "- **ab**: Opens a file for appending in binary format. The file pointer is at the end of the file if the file exists. That is, the file is in the append mode. If the file does not exist, it creates a new file for writing.\n",
    "- **a+**: Opens a file for both appending and reading. The file pointer is at the end of the file if the file exists. The file opens in the append mode. If the file does not exist, it creates a new file for reading and writing.\n",
    "- **ab+**: Opens a file for both appending and reading in binary format. The file pointer is at the end of the file if the file| exists. The file opens in the append mode. If the file does not exist, it creates a new file for reading and writing.\n",
    "- **x**: Create a file open it for writing, returns an error if the file exist.\n"
   ]
  },
  {
   "cell_type": "code",
   "execution_count": 135,
   "metadata": {},
   "outputs": [
    {
     "name": "stdout",
     "output_type": "stream",
     "text": [
      "Help on built-in function open in module io:\n",
      "\n",
      "open(file, mode='r', buffering=-1, encoding=None, errors=None, newline=None, closefd=True, opener=None)\n",
      "    Open file and return a stream.  Raise OSError upon failure.\n",
      "    \n",
      "    file is either a text or byte string giving the name (and the path\n",
      "    if the file isn't in the current working directory) of the file to\n",
      "    be opened or an integer file descriptor of the file to be\n",
      "    wrapped. (If a file descriptor is given, it is closed when the\n",
      "    returned I/O object is closed, unless closefd is set to False.)\n",
      "    \n",
      "    mode is an optional string that specifies the mode in which the file\n",
      "    is opened. It defaults to 'r' which means open for reading in text\n",
      "    mode.  Other common values are 'w' for writing (truncating the file if\n",
      "    it already exists), 'x' for creating and writing to a new file, and\n",
      "    'a' for appending (which on some Unix systems, means that all writes\n",
      "    append to the end of the file regardless of the current seek position).\n",
      "    In text mode, if encoding is not specified the encoding used is platform\n",
      "    dependent: locale.getpreferredencoding(False) is called to get the\n",
      "    current locale encoding. (For reading and writing raw bytes use binary\n",
      "    mode and leave encoding unspecified.) The available modes are:\n",
      "    \n",
      "    ========= ===============================================================\n",
      "    Character Meaning\n",
      "    --------- ---------------------------------------------------------------\n",
      "    'r'       open for reading (default)\n",
      "    'w'       open for writing, truncating the file first\n",
      "    'x'       create a new file and open it for writing\n",
      "    'a'       open for writing, appending to the end of the file if it exists\n",
      "    'b'       binary mode\n",
      "    't'       text mode (default)\n",
      "    '+'       open a disk file for updating (reading and writing)\n",
      "    'U'       universal newline mode (deprecated)\n",
      "    ========= ===============================================================\n",
      "    \n",
      "    The default mode is 'rt' (open for reading text). For binary random\n",
      "    access, the mode 'w+b' opens and truncates the file to 0 bytes, while\n",
      "    'r+b' opens the file without truncation. The 'x' mode implies 'w' and\n",
      "    raises an `FileExistsError` if the file already exists.\n",
      "    \n",
      "    Python distinguishes between files opened in binary and text modes,\n",
      "    even when the underlying operating system doesn't. Files opened in\n",
      "    binary mode (appending 'b' to the mode argument) return contents as\n",
      "    bytes objects without any decoding. In text mode (the default, or when\n",
      "    't' is appended to the mode argument), the contents of the file are\n",
      "    returned as strings, the bytes having been first decoded using a\n",
      "    platform-dependent encoding or using the specified encoding if given.\n",
      "    \n",
      "    'U' mode is deprecated and will raise an exception in future versions\n",
      "    of Python.  It has no effect in Python 3.  Use newline to control\n",
      "    universal newlines mode.\n",
      "    \n",
      "    buffering is an optional integer used to set the buffering policy.\n",
      "    Pass 0 to switch buffering off (only allowed in binary mode), 1 to select\n",
      "    line buffering (only usable in text mode), and an integer > 1 to indicate\n",
      "    the size of a fixed-size chunk buffer.  When no buffering argument is\n",
      "    given, the default buffering policy works as follows:\n",
      "    \n",
      "    * Binary files are buffered in fixed-size chunks; the size of the buffer\n",
      "      is chosen using a heuristic trying to determine the underlying device's\n",
      "      \"block size\" and falling back on `io.DEFAULT_BUFFER_SIZE`.\n",
      "      On many systems, the buffer will typically be 4096 or 8192 bytes long.\n",
      "    \n",
      "    * \"Interactive\" text files (files for which isatty() returns True)\n",
      "      use line buffering.  Other text files use the policy described above\n",
      "      for binary files.\n",
      "    \n",
      "    encoding is the name of the encoding used to decode or encode the\n",
      "    file. This should only be used in text mode. The default encoding is\n",
      "    platform dependent, but any encoding supported by Python can be\n",
      "    passed.  See the codecs module for the list of supported encodings.\n",
      "    \n",
      "    errors is an optional string that specifies how encoding errors are to\n",
      "    be handled---this argument should not be used in binary mode. Pass\n",
      "    'strict' to raise a ValueError exception if there is an encoding error\n",
      "    (the default of None has the same effect), or pass 'ignore' to ignore\n",
      "    errors. (Note that ignoring encoding errors can lead to data loss.)\n",
      "    See the documentation for codecs.register or run 'help(codecs.Codec)'\n",
      "    for a list of the permitted encoding error strings.\n",
      "    \n",
      "    newline controls how universal newlines works (it only applies to text\n",
      "    mode). It can be None, '', '\\n', '\\r', and '\\r\\n'.  It works as\n",
      "    follows:\n",
      "    \n",
      "    * On input, if newline is None, universal newlines mode is\n",
      "      enabled. Lines in the input can end in '\\n', '\\r', or '\\r\\n', and\n",
      "      these are translated into '\\n' before being returned to the\n",
      "      caller. If it is '', universal newline mode is enabled, but line\n",
      "      endings are returned to the caller untranslated. If it has any of\n",
      "      the other legal values, input lines are only terminated by the given\n",
      "      string, and the line ending is returned to the caller untranslated.\n",
      "    \n",
      "    * On output, if newline is None, any '\\n' characters written are\n",
      "      translated to the system default line separator, os.linesep. If\n",
      "      newline is '' or '\\n', no translation takes place. If newline is any\n",
      "      of the other legal values, any '\\n' characters written are translated\n",
      "      to the given string.\n",
      "    \n",
      "    If closefd is False, the underlying file descriptor will be kept open\n",
      "    when the file is closed. This does not work when a file name is given\n",
      "    and must be True in that case.\n",
      "    \n",
      "    A custom opener can be used by passing a callable as *opener*. The\n",
      "    underlying file descriptor for the file object is then obtained by\n",
      "    calling *opener* with (*file*, *flags*). *opener* must return an open\n",
      "    file descriptor (passing os.open as *opener* results in functionality\n",
      "    similar to passing None).\n",
      "    \n",
      "    open() returns a file object whose type depends on the mode, and\n",
      "    through which the standard file operations such as reading and writing\n",
      "    are performed. When open() is used to open a file in a text mode ('w',\n",
      "    'r', 'wt', 'rt', etc.), it returns a TextIOWrapper. When used to open\n",
      "    a file in a binary mode, the returned class varies: in read binary\n",
      "    mode, it returns a BufferedReader; in write binary and append binary\n",
      "    modes, it returns a BufferedWriter, and in read/write mode, it returns\n",
      "    a BufferedRandom.\n",
      "    \n",
      "    It is also possible to use a string or bytearray as a file for both\n",
      "    reading and writing. For strings StringIO can be used like a file\n",
      "    opened in a text mode, and for bytes a BytesIO can be used like a file\n",
      "    opened in a binary mode.\n",
      "\n",
      "None\n"
     ]
    }
   ],
   "source": [
    "print (help(open))"
   ]
  },
  {
   "cell_type": "code",
   "execution_count": 136,
   "metadata": {},
   "outputs": [
    {
     "name": "stdout",
     "output_type": "stream",
     "text": [
      "['_CHUNK_SIZE', '__class__', '__del__', '__delattr__', '__dict__', '__dir__', '__doc__', '__enter__', '__eq__', '__exit__', '__format__', '__ge__', '__getattribute__', '__getstate__', '__gt__', '__hash__', '__init__', '__init_subclass__', '__iter__', '__le__', '__lt__', '__ne__', '__new__', '__next__', '__reduce__', '__reduce_ex__', '__repr__', '__setattr__', '__sizeof__', '__str__', '__subclasshook__', '_checkClosed', '_checkReadable', '_checkSeekable', '_checkWritable', '_finalizing', 'buffer', 'close', 'closed', 'detach', 'encoding', 'errors', 'fileno', 'flush', 'isatty', 'line_buffering', 'mode', 'name', 'newlines', 'read', 'readable', 'readline', 'readlines', 'reconfigure', 'seek', 'seekable', 'tell', 'truncate', 'writable', 'write', 'write_through', 'writelines']\n"
     ]
    }
   ],
   "source": [
    "file = open(\"startups_company.csv\", \"r\")\n",
    "print (dir(file))"
   ]
  },
  {
   "cell_type": "markdown",
   "metadata": {},
   "source": [
    "#### File Read"
   ]
  },
  {
   "cell_type": "code",
   "execution_count": 137,
   "metadata": {},
   "outputs": [
    {
     "data": {
      "text/plain": [
       "True"
      ]
     },
     "execution_count": 137,
     "metadata": {},
     "output_type": "execute_result"
    }
   ],
   "source": [
    "callable(file.read)\n"
   ]
  },
  {
   "cell_type": "code",
   "execution_count": 138,
   "metadata": {},
   "outputs": [
    {
     "name": "stdout",
     "output_type": "stream",
     "text": [
      "Help on built-in function read:\n",
      "\n",
      "read(size=-1, /) method of _io.TextIOWrapper instance\n",
      "    Read at most n characters from stream.\n",
      "    \n",
      "    Read from underlying buffer until we have n characters or we hit EOF.\n",
      "    If n is negative or omitted, read until EOF.\n",
      "\n",
      "None\n"
     ]
    }
   ],
   "source": [
    "print (help(file.read))"
   ]
  },
  {
   "cell_type": "code",
   "execution_count": 139,
   "metadata": {},
   "outputs": [
    {
     "data": {
      "text/plain": [
       "False"
      ]
     },
     "execution_count": 139,
     "metadata": {},
     "output_type": "execute_result"
    }
   ],
   "source": [
    "callable(file.name)"
   ]
  },
  {
   "cell_type": "code",
   "execution_count": 140,
   "metadata": {},
   "outputs": [
    {
     "name": "stdout",
     "output_type": "stream",
     "text": [
      "startups_company.csv\n"
     ]
    }
   ],
   "source": [
    "print(file.name)"
   ]
  },
  {
   "cell_type": "code",
   "execution_count": 141,
   "metadata": {},
   "outputs": [
    {
     "name": "stdout",
     "output_type": "stream",
     "text": [
      "Help on built-in function readlines:\n",
      "\n",
      "readlines(hint=-1, /) method of _io.TextIOWrapper instance\n",
      "    Return a list of lines from the stream.\n",
      "    \n",
      "    hint can be specified to control the number of lines read: no more\n",
      "    lines will be read if the total size (in bytes/characters) of all\n",
      "    lines so far exceeds hint.\n",
      "\n",
      "None\n"
     ]
    }
   ],
   "source": [
    "print (help(file.readlines))"
   ]
  },
  {
   "cell_type": "markdown",
   "metadata": {},
   "source": [
    "#### Methods of File Objects\n",
    "- **read()**: Read the file\n",
    "- **colse()**:  Close the file "
   ]
  },
  {
   "cell_type": "markdown",
   "metadata": {},
   "source": [
    "- Read complete file and print all of the contents of the file \"startups_company.csv\"."
   ]
  },
  {
   "cell_type": "code",
   "execution_count": 142,
   "metadata": {},
   "outputs": [
    {
     "name": "stdout",
     "output_type": "stream",
     "text": [
      "\"R&D Spend\",\"Administration\",\"Marketing Spend\",\"State\",\"Profit\"\n",
      "\"165349.2\",\"136897.8\",\"471784.1\",\"New York\",\"192261.83\"\n",
      "\"162597.7\",\"151377.59\",\"443898.53\",\"California\",\"191792.06\"\n",
      "\"153441.51\",\"101145.55\",\"407934.54\",\"Florida\",\"191050.39\"\n",
      "\"144372.41\",\"118671.85\",\"383199.62\",\"New York\",\"182901.99\"\n",
      "\"142107.34\",\"91391.77\",\"366168.42\",\"Florida\",\"166187.94\"\n",
      "\"131876.9\",\"99814.71\",\"362861.36\",\"New York\",\"156991.12\"\n",
      "\"134615.46\",\"147198.87\",\"127716.82\",\"California\",\"156122.51\"\n",
      "\"130298.13\",\"145530.06\",\"323876.68\",\"Florida\",\"155752.6\"\n",
      "\"120542.52\",\"148718.95\",\"311613.29\",\"New York\",\"152211.77\"\n",
      "\"123334.88\",\"108679.17\",\"304981.62\",\"California\",\"149759.96\"\n",
      "\"101913.08\",\"110594.11\",\"229160.95\",\"Florida\",\"146121.95\"\n",
      "\"100671.96\",\"91790.61\",\"249744.55\",\"California\",\"144259.4\"\n",
      "\"93863.75\",\"127320.38\",\"249839.44\",\"Florida\",\"141585.52\"\n",
      "\"91992.39\",\"135495.07\",\"252664.93\",\"California\",\"134307.35\"\n",
      "\"119943.24\",\"156547.42\",\"256512.92\",\"Florida\",\"132602.65\"\n",
      "\"114523.61\",\"122616.84\",\"261776.23\",\"New York\",\"129917.04\"\n",
      "\"78013.11\",\"121597.55\",\"264346.06\",\"California\",\"126992.93\"\n",
      "\"94657.16\",\"145077.58\",\"282574.31\",\"New York\",\"125370.37\"\n",
      "\"91749.16\",\"114175.79\",\"294919.57\",\"Florida\",\"124266.9\"\n",
      "\"86419.7\",\"153514.11\",\"0.0\",\"New York\",\"122776.86\"\n",
      "\"76253.86\",\"113867.3\",\"298664.47\",\"California\",\"118474.03\"\n",
      "\"78389.47\",\"153773.43\",\"299737.29\",\"New York\",\"111313.02\"\n",
      "\"73994.56\",\"122782.75\",\"303319.26\",\"Florida\",\"110352.25\"\n",
      "\"67532.53\",\"105751.03\",\"304768.73\",\"Florida\",\"108733.99\"\n",
      "\"77044.01\",\"99281.34\",\"140574.81\",\"New York\",\"108552.04\"\n",
      "\"64664.71\",\"139553.16\",\"137962.62\",\"California\",\"107404.34\"\n",
      "\"75328.87\",\"144135.98\",\"134050.07\",\"Florida\",\"105733.54\"\n",
      "\"72107.6\",\"127864.55\",\"353183.81\",\"New York\",\"105008.31\"\n",
      "\"66051.52\",\"182645.56\",\"118148.2\",\"Florida\",\"103282.38\"\n",
      "\"65605.48\",\"153032.06\",\"107138.38\",\"New York\",\"101004.64\"\n",
      "\"61994.48\",\"115641.28\",\"91131.24\",\"Florida\",\"99937.59\"\n",
      "\"61136.38\",\"152701.92\",\"88218.23\",\"New York\",\"97483.56\"\n",
      "\"63408.86\",\"129219.61\",\"46085.25\",\"California\",\"97427.84\"\n",
      "\"55493.95\",\"103057.49\",\"214634.81\",\"Florida\",\"96778.92\"\n",
      "\"46426.07\",\"157693.92\",\"210797.67\",\"California\",\"96712.8\"\n",
      "\"46014.02\",\"85047.44\",\"205517.64\",\"New York\",\"96479.51\"\n",
      "\"28663.76\",\"127056.21\",\"201126.82\",\"Florida\",\"90708.19\"\n",
      "\"44069.95\",\"51283.14\",\"197029.42\",\"California\",\"89949.14\"\n",
      "\"20229.59\",\"65947.93\",\"185265.1\",\"New York\",\"81229.06\"\n",
      "\"38558.51\",\"82982.09\",\"174999.3\",\"California\",\"81005.76\"\n",
      "\"28754.33\",\"118546.05\",\"172795.67\",\"California\",\"78239.91\"\n",
      "\"27892.92\",\"84710.77\",\"164470.71\",\"Florida\",\"77798.83\"\n",
      "\"23640.93\",\"96189.63\",\"148001.11\",\"California\",\"71498.49\"\n",
      "\"15505.73\",\"127382.3\",\"35534.17\",\"New York\",\"69758.98\"\n",
      "\"22177.74\",\"154806.14\",\"28334.72\",\"California\",\"65200.33\"\n",
      "\"1000.23\",\"124153.04\",\"1903.93\",\"New York\",\"64926.08\"\n",
      "\"1315.46\",\"115816.21\",\"297114.46\",\"Florida\",\"49490.75\"\n",
      "\"0.0\",\"135426.92\",\"0.0\",\"California\",\"42559.73\"\n",
      "\"542.05\",\"51743.15\",\"0.0\",\"New York\",\"35673.41\"\n",
      "\"0.0\",\"116983.8\",\"45173.06\",\"California\",\"14681.4\"\n",
      "\n"
     ]
    }
   ],
   "source": [
    "file = open(\"startups_company.csv\", \"r\")\n",
    "file_data = file.read()\n",
    "print(file_data)\n",
    "file.close()  #close file"
   ]
  },
  {
   "cell_type": "markdown",
   "metadata": {},
   "source": [
    "- **readline()**: Read file line by line"
   ]
  },
  {
   "cell_type": "code",
   "execution_count": 143,
   "metadata": {},
   "outputs": [
    {
     "name": "stdout",
     "output_type": "stream",
     "text": [
      "\"R&D Spend\",\"Administration\",\"Marketing Spend\",\"State\",\"Profit\"\n",
      "\n"
     ]
    }
   ],
   "source": [
    "file = open(\"startups_company.csv\", \"r\")\n",
    "print(file.readline())\n",
    "\n",
    "file.close()"
   ]
  },
  {
   "cell_type": "code",
   "execution_count": 144,
   "metadata": {},
   "outputs": [
    {
     "name": "stdout",
     "output_type": "stream",
     "text": [
      "\"R&D Spend\",\"Administration\",\"Marketing Spend\",\"State\",\"Profit\"\n",
      "\n",
      "\"165349.2\",\"136897.8\",\"471784.1\",\"New York\",\"192261.83\"\n",
      "\n"
     ]
    }
   ],
   "source": [
    "file = open(\"startups_company.csv\", \"r\")\n",
    "print(file.readline())\n",
    "print(file.readline())\n",
    "file.close()"
   ]
  },
  {
   "cell_type": "code",
   "execution_count": 145,
   "metadata": {},
   "outputs": [
    {
     "name": "stdout",
     "output_type": "stream",
     "text": [
      "Line no 1: \"R&D Spend\",\"Administration\",\"Marketing Spend\",\"State\",\"Profit\"\n",
      "\n",
      "Line no 2: \"165349.2\",\"136897.8\",\"471784.1\",\"New York\",\"192261.83\"\n",
      "\n",
      "Line no 3: \"162597.7\",\"151377.59\",\"443898.53\",\"California\",\"191792.06\"\n",
      "\n",
      "Line no 4: \"153441.51\",\"101145.55\",\"407934.54\",\"Florida\",\"191050.39\"\n",
      "\n",
      "Line no 5: \"144372.41\",\"118671.85\",\"383199.62\",\"New York\",\"182901.99\"\n",
      "\n",
      "Line no 6: \"142107.34\",\"91391.77\",\"366168.42\",\"Florida\",\"166187.94\"\n",
      "\n",
      "Line no 7: \"131876.9\",\"99814.71\",\"362861.36\",\"New York\",\"156991.12\"\n",
      "\n",
      "Line no 8: \"134615.46\",\"147198.87\",\"127716.82\",\"California\",\"156122.51\"\n",
      "\n",
      "Line no 9: \"130298.13\",\"145530.06\",\"323876.68\",\"Florida\",\"155752.6\"\n",
      "\n",
      "Line no 10: \"120542.52\",\"148718.95\",\"311613.29\",\"New York\",\"152211.77\"\n",
      "\n"
     ]
    }
   ],
   "source": [
    "file = open(\"startups_company.csv\", \"r\")\n",
    "for i in range(10):\n",
    "    print('Line no {}: {}'.format(i+1, file.readline()))\n",
    "file.close()\n"
   ]
  },
  {
   "cell_type": "markdown",
   "metadata": {},
   "source": [
    " - **readlines()**: Return a list in which each element is a line in the file"
   ]
  },
  {
   "cell_type": "code",
   "execution_count": 146,
   "metadata": {},
   "outputs": [
    {
     "name": "stdout",
     "output_type": "stream",
     "text": [
      "['\"R&D Spend\",\"Administration\",\"Marketing Spend\",\"State\",\"Profit\"\\n', '\"165349.2\",\"136897.8\",\"471784.1\",\"New York\",\"192261.83\"\\n', '\"162597.7\",\"151377.59\",\"443898.53\",\"California\",\"191792.06\"\\n', '\"153441.51\",\"101145.55\",\"407934.54\",\"Florida\",\"191050.39\"\\n', '\"144372.41\",\"118671.85\",\"383199.62\",\"New York\",\"182901.99\"\\n', '\"142107.34\",\"91391.77\",\"366168.42\",\"Florida\",\"166187.94\"\\n', '\"131876.9\",\"99814.71\",\"362861.36\",\"New York\",\"156991.12\"\\n', '\"134615.46\",\"147198.87\",\"127716.82\",\"California\",\"156122.51\"\\n', '\"130298.13\",\"145530.06\",\"323876.68\",\"Florida\",\"155752.6\"\\n', '\"120542.52\",\"148718.95\",\"311613.29\",\"New York\",\"152211.77\"\\n', '\"123334.88\",\"108679.17\",\"304981.62\",\"California\",\"149759.96\"\\n', '\"101913.08\",\"110594.11\",\"229160.95\",\"Florida\",\"146121.95\"\\n', '\"100671.96\",\"91790.61\",\"249744.55\",\"California\",\"144259.4\"\\n', '\"93863.75\",\"127320.38\",\"249839.44\",\"Florida\",\"141585.52\"\\n', '\"91992.39\",\"135495.07\",\"252664.93\",\"California\",\"134307.35\"\\n', '\"119943.24\",\"156547.42\",\"256512.92\",\"Florida\",\"132602.65\"\\n', '\"114523.61\",\"122616.84\",\"261776.23\",\"New York\",\"129917.04\"\\n', '\"78013.11\",\"121597.55\",\"264346.06\",\"California\",\"126992.93\"\\n', '\"94657.16\",\"145077.58\",\"282574.31\",\"New York\",\"125370.37\"\\n', '\"91749.16\",\"114175.79\",\"294919.57\",\"Florida\",\"124266.9\"\\n', '\"86419.7\",\"153514.11\",\"0.0\",\"New York\",\"122776.86\"\\n', '\"76253.86\",\"113867.3\",\"298664.47\",\"California\",\"118474.03\"\\n', '\"78389.47\",\"153773.43\",\"299737.29\",\"New York\",\"111313.02\"\\n', '\"73994.56\",\"122782.75\",\"303319.26\",\"Florida\",\"110352.25\"\\n', '\"67532.53\",\"105751.03\",\"304768.73\",\"Florida\",\"108733.99\"\\n', '\"77044.01\",\"99281.34\",\"140574.81\",\"New York\",\"108552.04\"\\n', '\"64664.71\",\"139553.16\",\"137962.62\",\"California\",\"107404.34\"\\n', '\"75328.87\",\"144135.98\",\"134050.07\",\"Florida\",\"105733.54\"\\n', '\"72107.6\",\"127864.55\",\"353183.81\",\"New York\",\"105008.31\"\\n', '\"66051.52\",\"182645.56\",\"118148.2\",\"Florida\",\"103282.38\"\\n', '\"65605.48\",\"153032.06\",\"107138.38\",\"New York\",\"101004.64\"\\n', '\"61994.48\",\"115641.28\",\"91131.24\",\"Florida\",\"99937.59\"\\n', '\"61136.38\",\"152701.92\",\"88218.23\",\"New York\",\"97483.56\"\\n', '\"63408.86\",\"129219.61\",\"46085.25\",\"California\",\"97427.84\"\\n', '\"55493.95\",\"103057.49\",\"214634.81\",\"Florida\",\"96778.92\"\\n', '\"46426.07\",\"157693.92\",\"210797.67\",\"California\",\"96712.8\"\\n', '\"46014.02\",\"85047.44\",\"205517.64\",\"New York\",\"96479.51\"\\n', '\"28663.76\",\"127056.21\",\"201126.82\",\"Florida\",\"90708.19\"\\n', '\"44069.95\",\"51283.14\",\"197029.42\",\"California\",\"89949.14\"\\n', '\"20229.59\",\"65947.93\",\"185265.1\",\"New York\",\"81229.06\"\\n', '\"38558.51\",\"82982.09\",\"174999.3\",\"California\",\"81005.76\"\\n', '\"28754.33\",\"118546.05\",\"172795.67\",\"California\",\"78239.91\"\\n', '\"27892.92\",\"84710.77\",\"164470.71\",\"Florida\",\"77798.83\"\\n', '\"23640.93\",\"96189.63\",\"148001.11\",\"California\",\"71498.49\"\\n', '\"15505.73\",\"127382.3\",\"35534.17\",\"New York\",\"69758.98\"\\n', '\"22177.74\",\"154806.14\",\"28334.72\",\"California\",\"65200.33\"\\n', '\"1000.23\",\"124153.04\",\"1903.93\",\"New York\",\"64926.08\"\\n', '\"1315.46\",\"115816.21\",\"297114.46\",\"Florida\",\"49490.75\"\\n', '\"0.0\",\"135426.92\",\"0.0\",\"California\",\"42559.73\"\\n', '\"542.05\",\"51743.15\",\"0.0\",\"New York\",\"35673.41\"\\n', '\"0.0\",\"116983.8\",\"45173.06\",\"California\",\"14681.4\"\\n']\n"
     ]
    }
   ],
   "source": [
    "file = open(\"startups_company.csv\", \"r\")\n",
    "print(file.readlines())\n",
    "file.close()"
   ]
  },
  {
   "cell_type": "markdown",
   "metadata": {},
   "source": [
    "- Read file byte by byte [byte/characters]"
   ]
  },
  {
   "cell_type": "code",
   "execution_count": 147,
   "metadata": {},
   "outputs": [
    {
     "name": "stdout",
     "output_type": "stream",
     "text": [
      "\"R&\n",
      "D Spend\",\"Ad\n"
     ]
    }
   ],
   "source": [
    "file = open(\"startups_company.csv\", \"r\")\n",
    "print(file.read(3))\n",
    "print(file.read(12))\n",
    "#print(file.read())\n",
    "file.close()"
   ]
  },
  {
   "cell_type": "code",
   "execution_count": 148,
   "metadata": {},
   "outputs": [
    {
     "name": "stdout",
     "output_type": "stream",
     "text": [
      "\"R&D\n",
      " Spe\n",
      "nd\",\n",
      "\"Adm\n",
      "inis\n",
      "trat\n",
      "ion\"\n",
      ",\"Ma\n",
      "rket\n",
      "ing \n",
      "Spen\n",
      "d\",\"\n",
      "Stat\n",
      "e\",\"\n",
      "Prof\n",
      "it\"\n",
      "\n",
      "\"165\n",
      "349.\n",
      "2\",\"\n",
      "1368\n",
      "97.8\n"
     ]
    }
   ],
   "source": [
    "file = open(\"startups_company.csv\", \"r\")\n",
    "for i in range(21):\n",
    "    print(file.read(4))\n",
    "file.close()"
   ]
  },
  {
   "cell_type": "code",
   "execution_count": 149,
   "metadata": {},
   "outputs": [
    {
     "name": "stdout",
     "output_type": "stream",
     "text": [
      "\"R&D Spend\",\"Administration\",\"Marketing Spend\",\"State\",\"Profit\"\n",
      "\"165349.2\",\"136897.8\",\"471784.1\",\"New York\",\"192261.83\"\n",
      "\"162597.7\",\"151377.59\",\"443898.53\",\"California\",\"191792.06\"\n",
      "\"153441.51\",\"101145.55\",\"407934.54\",\"Florida\",\"191050.39\"\n",
      "\"144372.41\",\"118671.85\",\"383199.62\",\"New York\",\"182901.99\"\n",
      "\"142107.34\",\"91391.77\",\"366168.42\",\"Florida\",\"166187.94\"\n",
      "\"131876.9\",\"99814.71\",\"362861.36\",\"New York\",\"156991.12\"\n",
      "\"134615.46\",\"147198.87\",\"127716.82\",\"California\",\"156122.51\"\n",
      "\"130298.13\",\"145530.06\",\"323876.68\",\"Florida\",\"155752.6\"\n",
      "\"120542.52\",\"148718.95\",\"311613.29\",\"New York\",\"152211.77\"\n",
      "\"123334.88\",\"108679.17\",\"304981.62\",\"California\",\"149759.96\"\n",
      "\"101913.08\",\"110594.11\",\"229160.95\",\"Florida\",\"146121.95\"\n",
      "\"100671.96\",\"91790.61\",\"249744.55\",\"California\",\"144259.4\"\n",
      "\"93863.75\",\"127320.38\",\"249839.44\",\"Florida\",\"141585.52\"\n",
      "\"91992.39\",\"135495.07\",\"252664.93\",\"California\",\"134307.35\"\n",
      "\"119943.24\",\"156547.42\",\"256512.92\",\"Florida\",\"132602.65\"\n",
      "\"114523.61\",\"122616.84\",\"261776.23\",\"New York\",\"129917.04\"\n",
      "\"78013.11\",\"121597.55\",\"264346.06\",\"California\",\"126992.93\"\n",
      "\"94657.16\",\"145077.58\",\"282574.31\",\"New York\",\"125370.37\"\n",
      "\"91749.16\",\"114175.79\",\"294919.57\",\"Florida\",\"124266.9\"\n",
      "\"86419.7\",\"153514.11\",\"0.0\",\"New York\",\"122776.86\"\n",
      "\"76253.86\",\"113867.3\",\"298664.47\",\"California\",\"118474.03\"\n",
      "\"78389.47\",\"153773.43\",\"299737.29\",\"New York\",\"111313.02\"\n",
      "\"73994.56\",\"122782.75\",\"303319.26\",\"Florida\",\"110352.25\"\n",
      "\"67532.53\",\"105751.03\",\"304768.73\",\"Florida\",\"108733.99\"\n",
      "\"77044.01\",\"99281.34\",\"140574.81\",\"New York\",\"108552.04\"\n",
      "\"64664.71\",\"139553.16\",\"137962.62\",\"California\",\"107404.34\"\n",
      "\"75328.87\",\"144135.98\",\"134050.07\",\"Florida\",\"105733.54\"\n",
      "\"72107.6\",\"127864.55\",\"353183.81\",\"New York\",\"105008.31\"\n",
      "\"66051.52\",\"182645.56\",\"118148.2\",\"Florida\",\"103282.38\"\n",
      "\"65605.48\",\"153032.06\",\"107138.38\",\"New York\",\"101004.64\"\n",
      "\"61994.48\",\"115641.28\",\"91131.24\",\"Florida\",\"99937.59\"\n",
      "\"61136.38\",\"152701.92\",\"88218.23\",\"New York\",\"97483.56\"\n",
      "\"63408.86\",\"129219.61\",\"46085.25\",\"California\",\"97427.84\"\n",
      "\"55493.95\",\"103057.49\",\"214634.81\",\"Florida\",\"96778.92\"\n",
      "\"46426.07\",\"157693.92\",\"210797.67\",\"California\",\"96712.8\"\n",
      "\"46014.02\",\"85047.44\",\"205517.64\",\"New York\",\"96479.51\"\n",
      "\"28663.76\",\"127056.21\",\"201126.82\",\"Florida\",\"90708.19\"\n",
      "\"44069.95\",\"51283.14\",\"197029.42\",\"California\",\"89949.14\"\n",
      "\"20229.59\",\"65947.93\",\"185265.1\",\"New York\",\"81229.06\"\n",
      "\"38558.51\",\"82982.09\",\"174999.3\",\"California\",\"81005.76\"\n",
      "\"28754.33\",\"118546.05\",\"172795.67\",\"California\",\"78239.91\"\n",
      "\"27892.92\",\"84710.77\",\"164470.71\",\"Florida\",\"77798.83\"\n",
      "\"23640.93\",\"96189.63\",\"148001.11\",\"California\",\"71498.49\"\n",
      "\"15505.73\",\"127382.3\",\"35534.17\",\"New York\",\"69758.98\"\n",
      "\"22177.74\",\"154806.14\",\"28334.72\",\"California\",\"65200.33\"\n",
      "\"1000.23\",\"124153.04\",\"1903.93\",\"New York\",\"64926.08\"\n",
      "\"1315.46\",\"115816.21\",\"297114.46\",\"Florida\",\"49490.75\"\n",
      "\"0.0\",\"135426.92\",\"0.0\",\"California\",\"42559.73\"\n",
      "\"542.05\",\"51743.15\",\"0.0\",\"New York\",\"35673.41\"\n",
      "\"0.0\",\"116983.8\",\"45173.06\",\"California\",\"14681.4\"\n",
      "\n"
     ]
    }
   ],
   "source": [
    "with open(\"startups_company.csv\", 'r') as file: # Use file to refer to the file object\n",
    "    xy = file.read()\n",
    "print (xy)"
   ]
  },
  {
   "cell_type": "markdown",
   "metadata": {},
   "source": [
    "#### File Write\n",
    "\n",
    "- **write()**: write the file content\n"
   ]
  },
  {
   "cell_type": "code",
   "execution_count": 150,
   "metadata": {},
   "outputs": [],
   "source": [
    "f = open(\"outfile.txt\", \"w\")\n",
    "f.write('Python is awesome\\n')\n",
    "f.close()\n"
   ]
  },
  {
   "cell_type": "code",
   "execution_count": 151,
   "metadata": {},
   "outputs": [
    {
     "name": "stdout",
     "output_type": "stream",
     "text": [
      "Python is awesome\n",
      "\n"
     ]
    }
   ],
   "source": [
    "f = open(\"outfile.txt\", \"r\")\n",
    "print(f.read())\n",
    "f.close()"
   ]
  },
  {
   "cell_type": "code",
   "execution_count": 152,
   "metadata": {},
   "outputs": [],
   "source": [
    "with open('outfile.txt', 'w') as f:  # Use file to refer to the file object\n",
    "    f.write(\"Woops! I have deleted the content!\\n\")\n",
    "    f.write('Everything is a object in Python\\n\\n')\n",
    "    f.write('Python is a dynamically typed language')"
   ]
  },
  {
   "cell_type": "code",
   "execution_count": 153,
   "metadata": {},
   "outputs": [
    {
     "name": "stdout",
     "output_type": "stream",
     "text": [
      "Woops! I have deleted the content!\n",
      "Everything is a object in Python\n",
      "\n",
      "Python is a dynamically typed language\n"
     ]
    }
   ],
   "source": [
    "f = open(\"outfile.txt\", \"r\")\n",
    "print(f.read())\n",
    "f.close()"
   ]
  },
  {
   "cell_type": "code",
   "execution_count": 154,
   "metadata": {},
   "outputs": [
    {
     "ename": "FileExistsError",
     "evalue": "[Errno 17] File exists: 'outfile.txt'",
     "output_type": "error",
     "traceback": [
      "\u001b[1;31m---------------------------------------------------------------------------\u001b[0m",
      "\u001b[1;31mFileExistsError\u001b[0m                           Traceback (most recent call last)",
      "\u001b[1;32m<ipython-input-154-e6cf3fb46acd>\u001b[0m in \u001b[0;36m<module>\u001b[1;34m\u001b[0m\n\u001b[1;32m----> 1\u001b[1;33m \u001b[0mf\u001b[0m \u001b[1;33m=\u001b[0m \u001b[0mopen\u001b[0m\u001b[1;33m(\u001b[0m\u001b[1;34m\"outfile.txt\"\u001b[0m\u001b[1;33m,\u001b[0m \u001b[1;34m\"x\"\u001b[0m\u001b[1;33m)\u001b[0m\u001b[1;33m\u001b[0m\u001b[1;33m\u001b[0m\u001b[0m\n\u001b[0m",
      "\u001b[1;31mFileExistsError\u001b[0m: [Errno 17] File exists: 'outfile.txt'"
     ]
    }
   ],
   "source": [
    "f = open(\"outfile.txt\", \"x\")"
   ]
  },
  {
   "cell_type": "code",
   "execution_count": 155,
   "metadata": {},
   "outputs": [],
   "source": [
    "f = open(\"outfile1.txt\", \"x\")\n",
    "f.write('writing in new file')\n",
    "f.close()"
   ]
  },
  {
   "cell_type": "markdown",
   "metadata": {},
   "source": [
    "- The write method returns the number of bytes written to a file, if successful."
   ]
  },
  {
   "cell_type": "code",
   "execution_count": 156,
   "metadata": {},
   "outputs": [
    {
     "name": "stdout",
     "output_type": "stream",
     "text": [
      "71\n"
     ]
    }
   ],
   "source": [
    "file_data = '''Everything is a object in Python\n",
    "Python is a dynamically typed language'''\n",
    "f = open(\"outfile2.txt\", \"w\")\n",
    "amount_written = f.write(file_data)\n",
    "print(amount_written)\n",
    "file.close()"
   ]
  },
  {
   "cell_type": "code",
   "execution_count": 157,
   "metadata": {},
   "outputs": [
    {
     "name": "stdout",
     "output_type": "stream",
     "text": [
      "writing in new file\n"
     ]
    }
   ],
   "source": [
    "f = open(\"outfile1.txt\", \"r\")\n",
    "print(f.read())\n",
    "f.close()"
   ]
  },
  {
   "cell_type": "markdown",
   "metadata": {},
   "source": [
    "#### Append to a file"
   ]
  },
  {
   "cell_type": "code",
   "execution_count": 158,
   "metadata": {},
   "outputs": [],
   "source": [
    "f = open(\"outfile1.txt\", \"a\")\n",
    "f.write(\"\\nappended line\")\n",
    "f.close()"
   ]
  },
  {
   "cell_type": "code",
   "execution_count": 159,
   "metadata": {},
   "outputs": [],
   "source": [
    "with open(\"outfile1.txt\", \"a\") as f:\n",
    "    f.write(\"\\nappended next line\")"
   ]
  },
  {
   "cell_type": "code",
   "execution_count": 160,
   "metadata": {},
   "outputs": [
    {
     "name": "stdout",
     "output_type": "stream",
     "text": [
      "writing in new file\n",
      "appended line\n",
      "appended next line\n"
     ]
    }
   ],
   "source": [
    "f = open(\"outfile1.txt\", \"r\")\n",
    "print(f.read())\n",
    "f.close()"
   ]
  },
  {
   "cell_type": "markdown",
   "metadata": {},
   "source": [
    "- **tell()** method tells you the current position within the file\n",
    "- **seek()** method changes the current file position"
   ]
  },
  {
   "cell_type": "code",
   "execution_count": 161,
   "metadata": {},
   "outputs": [
    {
     "name": "stdout",
     "output_type": "stream",
     "text": [
      "Read String is :  writing\n",
      "Read String is :   in new\n"
     ]
    }
   ],
   "source": [
    "f = open(\"outfile1.txt\", \"r\")\n",
    "str = f.read(7);\n",
    "print (\"Read String is : \", str)\n",
    "str = f.read(7);\n",
    "print (\"Read String is : \", str)\n"
   ]
  },
  {
   "cell_type": "markdown",
   "metadata": {},
   "source": [
    "*Check current position*"
   ]
  },
  {
   "cell_type": "code",
   "execution_count": 162,
   "metadata": {},
   "outputs": [
    {
     "name": "stdout",
     "output_type": "stream",
     "text": [
      "Current file position :  14\n"
     ]
    }
   ],
   "source": [
    "position = f.tell();\n",
    "print (\"Current file position : \", position)\n"
   ]
  },
  {
   "cell_type": "code",
   "execution_count": 163,
   "metadata": {},
   "outputs": [
    {
     "name": "stdout",
     "output_type": "stream",
     "text": [
      "Seek poition 14\n"
     ]
    }
   ],
   "source": [
    "position = f.seek(0, 1);  #reset the position\n",
    "print (\"Seek poition\", position)"
   ]
  },
  {
   "cell_type": "code",
   "execution_count": 164,
   "metadata": {},
   "outputs": [
    {
     "name": "stdout",
     "output_type": "stream",
     "text": [
      "Read String is :   file\n"
     ]
    }
   ],
   "source": [
    "str = f.read(5);\n",
    "print (\"Read String is : \", str)"
   ]
  },
  {
   "cell_type": "code",
   "execution_count": 165,
   "metadata": {},
   "outputs": [
    {
     "name": "stdout",
     "output_type": "stream",
     "text": [
      "Seek poition 7\n",
      "Again read String is :   in new fi\n",
      "Current file position :  17\n"
     ]
    }
   ],
   "source": [
    "position = f.seek(7, 0);  #reset the position\n",
    "print (\"Seek poition\", position)\n",
    "str = f.read(10);\n",
    "print (\"Again read String is : \", str)\n",
    "position = f.tell();\n",
    "print (\"Current file position : \", position)"
   ]
  },
  {
   "cell_type": "code",
   "execution_count": 166,
   "metadata": {},
   "outputs": [
    {
     "name": "stdout",
     "output_type": "stream",
     "text": [
      "17\n",
      "Again read String is :  le\n",
      "appende\n"
     ]
    }
   ],
   "source": [
    "position = f.seek(0, 1);  #reset the current position\n",
    "print (position)\n",
    "str = f.read(10);\n",
    "print (\"Again read String is : \", str)"
   ]
  },
  {
   "cell_type": "code",
   "execution_count": 167,
   "metadata": {},
   "outputs": [
    {
     "name": "stdout",
     "output_type": "stream",
     "text": [
      "Current file position :  28\n"
     ]
    }
   ],
   "source": [
    "position = f.tell();\n",
    "print (\"Current file position : \", position)"
   ]
  },
  {
   "cell_type": "code",
   "execution_count": 168,
   "metadata": {},
   "outputs": [],
   "source": [
    "f.close()"
   ]
  },
  {
   "cell_type": "code",
   "execution_count": 169,
   "metadata": {},
   "outputs": [],
   "source": [
    "with open(\"outfile1.txt\", \"r+\") as f:\n",
    "     old = f.read()         # read everything in the file\n",
    "     f.seek(0)              # rewind\n",
    "     f.write(\"new line\\n\" + old) # write the new line before"
   ]
  },
  {
   "cell_type": "code",
   "execution_count": 170,
   "metadata": {},
   "outputs": [
    {
     "name": "stdout",
     "output_type": "stream",
     "text": [
      "new line\n",
      "writing in new file\n",
      "appended line\n",
      "appended next line\n"
     ]
    }
   ],
   "source": [
    "f = open(\"outfile1.txt\", \"r\")\n",
    "print(f.read())\n",
    "f.close()"
   ]
  },
  {
   "cell_type": "code",
   "execution_count": 171,
   "metadata": {},
   "outputs": [],
   "source": [
    "with open(\"outfile1.txt\", \"r+\") as f:\n",
    "     old = f.read()         # read everything in the file\n",
    "     f.seek(0,1)              # rewind\n",
    "     f.write(old + \" new line\\n\") # write the new line before"
   ]
  },
  {
   "cell_type": "code",
   "execution_count": 172,
   "metadata": {},
   "outputs": [
    {
     "name": "stdout",
     "output_type": "stream",
     "text": [
      "new line\n",
      "writing in new file\n",
      "appended line\n",
      "appended next linenew line\n",
      "writing in new file\n",
      "appended line\n",
      "appended next line new line\n",
      "\n"
     ]
    }
   ],
   "source": [
    "f = open(\"outfile1.txt\", \"r\")\n",
    "print(f.read())\n",
    "f.close()"
   ]
  },
  {
   "cell_type": "markdown",
   "metadata": {},
   "source": [
    "## Python's OS Module\n",
    "- The OS module in Python provides a way of using operating system dependent functionality. "
   ]
  },
  {
   "cell_type": "code",
   "execution_count": 173,
   "metadata": {},
   "outputs": [
    {
     "name": "stdout",
     "output_type": "stream",
     "text": [
      "['DirEntry', 'F_OK', 'MutableMapping', 'O_APPEND', 'O_BINARY', 'O_CREAT', 'O_EXCL', 'O_NOINHERIT', 'O_RANDOM', 'O_RDONLY', 'O_RDWR', 'O_SEQUENTIAL', 'O_SHORT_LIVED', 'O_TEMPORARY', 'O_TEXT', 'O_TRUNC', 'O_WRONLY', 'P_DETACH', 'P_NOWAIT', 'P_NOWAITO', 'P_OVERLAY', 'P_WAIT', 'PathLike', 'R_OK', 'SEEK_CUR', 'SEEK_END', 'SEEK_SET', 'TMP_MAX', 'W_OK', 'X_OK', '_Environ', '__all__', '__builtins__', '__cached__', '__doc__', '__file__', '__loader__', '__name__', '__package__', '__spec__', '_execvpe', '_exists', '_exit', '_fspath', '_get_exports_list', '_putenv', '_unsetenv', '_wrap_close', 'abc', 'abort', 'access', 'altsep', 'chdir', 'chmod', 'close', 'closerange', 'cpu_count', 'curdir', 'defpath', 'device_encoding', 'devnull', 'dup', 'dup2', 'environ', 'error', 'execl', 'execle', 'execlp', 'execlpe', 'execv', 'execve', 'execvp', 'execvpe', 'extsep', 'fdopen', 'fsdecode', 'fsencode', 'fspath', 'fstat', 'fsync', 'ftruncate', 'get_exec_path', 'get_handle_inheritable', 'get_inheritable', 'get_terminal_size', 'getcwd', 'getcwdb', 'getenv', 'getlogin', 'getpid', 'getppid', 'isatty', 'kill', 'linesep', 'link', 'listdir', 'lseek', 'lstat', 'makedirs', 'mkdir', 'name', 'open', 'pardir', 'path', 'pathsep', 'pipe', 'popen', 'putenv', 'read', 'readlink', 'remove', 'removedirs', 'rename', 'renames', 'replace', 'rmdir', 'scandir', 'sep', 'set_handle_inheritable', 'set_inheritable', 'spawnl', 'spawnle', 'spawnv', 'spawnve', 'st', 'startfile', 'stat', 'stat_result', 'statvfs_result', 'strerror', 'supports_bytes_environ', 'supports_dir_fd', 'supports_effective_ids', 'supports_fd', 'supports_follow_symlinks', 'symlink', 'sys', 'system', 'terminal_size', 'times', 'times_result', 'truncate', 'umask', 'uname_result', 'unlink', 'urandom', 'utime', 'waitpid', 'walk', 'write']\n"
     ]
    }
   ],
   "source": [
    "import os\n",
    "print (dir(os))"
   ]
  },
  {
   "cell_type": "markdown",
   "metadata": {},
   "source": [
    "#### Delete File"
   ]
  },
  {
   "cell_type": "code",
   "execution_count": 174,
   "metadata": {},
   "outputs": [],
   "source": [
    "import os\n",
    "os.remove(\"outfile1.txt\")"
   ]
  },
  {
   "cell_type": "code",
   "execution_count": 175,
   "metadata": {},
   "outputs": [
    {
     "name": "stdout",
     "output_type": "stream",
     "text": [
      "The file does not exist\n"
     ]
    }
   ],
   "source": [
    "import os\n",
    "if os.path.exists(\"outfile1.txt\"):\n",
    "    os.remove(\"outfile1.txt\")\n",
    "    print(\"File deleted\")\n",
    "else:\n",
    "    print(\"The file does not exist\")"
   ]
  },
  {
   "cell_type": "markdown",
   "metadata": {},
   "source": [
    "#### Creat a folder"
   ]
  },
  {
   "cell_type": "code",
   "execution_count": 176,
   "metadata": {},
   "outputs": [
    {
     "name": "stdout",
     "output_type": "stream",
     "text": [
      "Help on built-in function mkdir in module nt:\n",
      "\n",
      "mkdir(path, mode=511, *, dir_fd=None)\n",
      "    Create a directory.\n",
      "    \n",
      "    If dir_fd is not None, it should be a file descriptor open to a directory,\n",
      "      and path should be relative; path will then be relative to that directory.\n",
      "    dir_fd may not be implemented on your platform.\n",
      "      If it is unavailable, using it will raise a NotImplementedError.\n",
      "    \n",
      "    The mode argument is ignored on Windows.\n",
      "\n"
     ]
    }
   ],
   "source": [
    "help(os.mkdir)"
   ]
  },
  {
   "cell_type": "code",
   "execution_count": 177,
   "metadata": {},
   "outputs": [],
   "source": [
    "os.mkdir(\"temp\")"
   ]
  },
  {
   "cell_type": "code",
   "execution_count": 178,
   "metadata": {},
   "outputs": [],
   "source": [
    "os.makedirs(\"D:\\\\python_training\\\\temp1\\\\temp\")  "
   ]
  },
  {
   "cell_type": "code",
   "execution_count": 179,
   "metadata": {},
   "outputs": [
    {
     "name": "stdout",
     "output_type": "stream",
     "text": [
      "Help on built-in function listdir in module nt:\n",
      "\n",
      "listdir(path=None)\n",
      "    Return a list containing the names of the files in the directory.\n",
      "    \n",
      "    path can be specified as either str, bytes, or a path-like object.  If path is bytes,\n",
      "      the filenames returned will also be bytes; in all other circumstances\n",
      "      the filenames returned will be str.\n",
      "    If path is None, uses the path='.'.\n",
      "    On some platforms, path may also be specified as an open file descriptor;\\\n",
      "      the file descriptor must refer to a directory.\n",
      "      If this functionality is unavailable, using it raises NotImplementedError.\n",
      "    \n",
      "    The list is in arbitrary order.  It does not include the special\n",
      "    entries '.' and '..' even if they are present in the directory.\n",
      "\n"
     ]
    }
   ],
   "source": [
    "help(os.listdir)"
   ]
  },
  {
   "cell_type": "code",
   "execution_count": 180,
   "metadata": {
    "scrolled": true
   },
   "outputs": [
    {
     "data": {
      "text/plain": [
       "['.idea',\n",
       " '.ipynb_checkpoints',\n",
       " 'Basic_Overview.ipynb',\n",
       " 'Control_Structures_if_3.ipynb',\n",
       " 'Control_Structures_Loop5.ipynb',\n",
       " 'Data_Structure_Dict_9.ipynb',\n",
       " 'Data_Structure_List_4.ipynb',\n",
       " 'Data_Structure_Tuple_9.ipynb',\n",
       " 'Exception_Handling_7.ipynb',\n",
       " 'Functions_Modules6.ipynb',\n",
       " 'helloworld.py',\n",
       " 'mymodule.py',\n",
       " 'outfile.txt',\n",
       " 'outfile2.txt',\n",
       " 'python-basic.ipynb',\n",
       " 'python_id.jpg',\n",
       " 'python_learing_workshop',\n",
       " 'Python_Selenium.ipynb',\n",
       " 'Python_Selenium.py',\n",
       " 'Python_String.ipynb',\n",
       " 'Reading_Writing_Files - Copy.ipynb',\n",
       " 'Reading_Writing_Files_8.ipynb',\n",
       " 'startups_company.csv',\n",
       " 'temp',\n",
       " 'temp1',\n",
       " 'testfile',\n",
       " 'Untitled.ipynb',\n",
       " '__pycache__']"
      ]
     },
     "execution_count": 180,
     "metadata": {},
     "output_type": "execute_result"
    }
   ],
   "source": [
    "os.listdir('D:\\\\python_training')"
   ]
  },
  {
   "cell_type": "markdown",
   "metadata": {},
   "source": [
    "#### Delete Folder\n"
   ]
  },
  {
   "cell_type": "code",
   "execution_count": 181,
   "metadata": {},
   "outputs": [],
   "source": [
    "import os\n",
    "os.rmdir(\"temp\")"
   ]
  },
  {
   "cell_type": "code",
   "execution_count": 182,
   "metadata": {},
   "outputs": [
    {
     "ename": "OSError",
     "evalue": "[WinError 145] The directory is not empty: 'temp1'",
     "output_type": "error",
     "traceback": [
      "\u001b[1;31m---------------------------------------------------------------------------\u001b[0m",
      "\u001b[1;31mOSError\u001b[0m                                   Traceback (most recent call last)",
      "\u001b[1;32m<ipython-input-182-5400afc15035>\u001b[0m in \u001b[0;36m<module>\u001b[1;34m\u001b[0m\n\u001b[0;32m      1\u001b[0m \u001b[1;32mimport\u001b[0m \u001b[0mos\u001b[0m\u001b[1;33m\u001b[0m\u001b[1;33m\u001b[0m\u001b[0m\n\u001b[0;32m      2\u001b[0m \u001b[1;32mif\u001b[0m \u001b[0mos\u001b[0m\u001b[1;33m.\u001b[0m\u001b[0mpath\u001b[0m\u001b[1;33m.\u001b[0m\u001b[0misdir\u001b[0m\u001b[1;33m(\u001b[0m\u001b[1;34m\"temp1\"\u001b[0m\u001b[1;33m)\u001b[0m\u001b[1;33m:\u001b[0m\u001b[1;33m\u001b[0m\u001b[1;33m\u001b[0m\u001b[0m\n\u001b[1;32m----> 3\u001b[1;33m     \u001b[0mos\u001b[0m\u001b[1;33m.\u001b[0m\u001b[0mrmdir\u001b[0m\u001b[1;33m(\u001b[0m\u001b[1;34m\"temp1\"\u001b[0m\u001b[1;33m)\u001b[0m\u001b[1;33m\u001b[0m\u001b[1;33m\u001b[0m\u001b[0m\n\u001b[0m\u001b[0;32m      4\u001b[0m     \u001b[0mprint\u001b[0m\u001b[1;33m(\u001b[0m\u001b[1;34m\"folder deleted\"\u001b[0m\u001b[1;33m)\u001b[0m\u001b[1;33m\u001b[0m\u001b[1;33m\u001b[0m\u001b[0m\n\u001b[0;32m      5\u001b[0m \u001b[1;32melse\u001b[0m\u001b[1;33m:\u001b[0m\u001b[1;33m\u001b[0m\u001b[1;33m\u001b[0m\u001b[0m\n",
      "\u001b[1;31mOSError\u001b[0m: [WinError 145] The directory is not empty: 'temp1'"
     ]
    }
   ],
   "source": [
    "import os\n",
    "if os.path.isdir(\"temp1\"):\n",
    "    os.rmdir(\"temp1\")\n",
    "    print(\"folder deleted\")\n",
    "else:\n",
    "    print(\"The folder does not exist\")\n"
   ]
  },
  {
   "cell_type": "code",
   "execution_count": null,
   "metadata": {},
   "outputs": [],
   "source": []
  },
  {
   "cell_type": "code",
   "execution_count": null,
   "metadata": {},
   "outputs": [],
   "source": []
  }
 ],
 "metadata": {
  "kernelspec": {
   "display_name": "Python 3",
   "language": "python",
   "name": "python3"
  },
  "language_info": {
   "codemirror_mode": {
    "name": "ipython",
    "version": 3
   },
   "file_extension": ".py",
   "mimetype": "text/x-python",
   "name": "python",
   "nbconvert_exporter": "python",
   "pygments_lexer": "ipython3",
   "version": "3.7.3"
  }
 },
 "nbformat": 4,
 "nbformat_minor": 2
}
