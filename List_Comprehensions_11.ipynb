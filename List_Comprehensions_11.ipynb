{
 "cells": [
  {
   "cell_type": "markdown",
   "metadata": {},
   "source": [
    "# <center>List comprehensions</center>\n",
    "List comprehensions are a useful way of quickly creating lists whose contents obey a simple rule."
   ]
  },
  {
   "cell_type": "markdown",
   "metadata": {},
   "source": [
    "- [expr for val in collection]\n",
    "- [expr for val in collection if \\< test \\>]\n",
    "- [expr for val in collection if \\< test \\> and \\< test \\>]\n",
    "- [expr for val in collection and val in collection]\n"
   ]
  },
  {
   "cell_type": "code",
   "execution_count": 88,
   "metadata": {},
   "outputs": [
    {
     "name": "stdout",
     "output_type": "stream",
     "text": [
      "[1, 4, 9, 16, 25, 36, 49, 64, 81, 100, 121, 144, 169, 196, 225, 256, 289, 324, 361, 400, 441, 484, 529, 576, 625, 676, 729, 784, 841, 900, 961, 1024, 1089, 1156, 1225, 1296, 1369, 1444, 1521, 1600, 1681, 1764, 1849, 1936, 2025, 2116, 2209, 2304, 2401, 2500, 2601, 2704, 2809, 2916, 3025, 3136, 3249, 3364, 3481, 3600, 3721, 3844, 3969, 4096, 4225, 4356, 4489, 4624, 4761, 4900, 5041, 5184, 5329, 5476, 5625, 5776, 5929, 6084, 6241, 6400, 6561, 6724, 6889, 7056, 7225, 7396, 7569, 7744, 7921, 8100, 8281, 8464, 8649, 8836, 9025, 9216, 9409, 9604, 9801, 10000]\n"
     ]
    }
   ],
   "source": [
    "squaires  = []\n",
    "for i in range (1, 101):\n",
    "    squaires.append(i**2)\n",
    "print (squaires)"
   ]
  },
  {
   "cell_type": "code",
   "execution_count": 89,
   "metadata": {},
   "outputs": [
    {
     "name": "stdout",
     "output_type": "stream",
     "text": [
      "[1, 4, 9, 16, 25, 36, 49, 64, 81, 100, 121, 144, 169, 196, 225, 256, 289, 324, 361, 400, 441, 484, 529, 576, 625, 676, 729, 784, 841, 900, 961, 1024, 1089, 1156, 1225, 1296, 1369, 1444, 1521, 1600, 1681, 1764, 1849, 1936, 2025, 2116, 2209, 2304, 2401, 2500, 2601, 2704, 2809, 2916, 3025, 3136, 3249, 3364, 3481, 3600, 3721, 3844, 3969, 4096, 4225, 4356, 4489, 4624, 4761, 4900, 5041, 5184, 5329, 5476, 5625, 5776, 5929, 6084, 6241, 6400, 6561, 6724, 6889, 7056, 7225, 7396, 7569, 7744, 7921, 8100, 8281, 8464, 8649, 8836, 9025, 9216, 9409, 9604, 9801, 10000]\n"
     ]
    }
   ],
   "source": [
    "squaires2 = [i**2 for i in range(1, 101)]\n",
    "print (squaires2)"
   ]
  },
  {
   "cell_type": "code",
   "execution_count": 90,
   "metadata": {},
   "outputs": [
    {
     "name": "stdout",
     "output_type": "stream",
     "text": [
      "[1, 4, 9, 5, 3, 3, 5, 9, 4, 1, 0, 1, 4, 9, 5, 3, 3, 5, 9, 4, 1, 0, 1, 4, 9, 5, 3, 3, 5, 9, 4, 1, 0, 1, 4, 9, 5, 3, 3, 5, 9, 4, 1, 0, 1, 4, 9, 5, 3, 3, 5, 9, 4, 1, 0, 1, 4, 9, 5, 3, 3, 5, 9, 4, 1, 0, 1, 4, 9, 5, 3, 3, 5, 9, 4, 1, 0, 1, 4, 9, 5, 3, 3, 5, 9, 4, 1, 0, 1, 4, 9, 5, 3, 3, 5, 9, 4, 1, 0, 1]\n"
     ]
    }
   ],
   "source": [
    "remainders = [i**2 % 11 for i in range(1, 101)]\n",
    "print (remainders)"
   ]
  },
  {
   "cell_type": "code",
   "execution_count": 91,
   "metadata": {},
   "outputs": [
    {
     "name": "stdout",
     "output_type": "stream",
     "text": [
      "[8, -12, 4]\n"
     ]
    }
   ],
   "source": [
    "#scalar multiplication\n",
    "v = [2, -3, 1]\n",
    "w = [4* x for x in v]\n",
    "print (w)\n"
   ]
  },
  {
   "cell_type": "code",
   "execution_count": 92,
   "metadata": {},
   "outputs": [
    {
     "name": "stdout",
     "output_type": "stream",
     "text": [
      "['t', 'i', 'a', 'l', 'o', 'w']\n"
     ]
    }
   ],
   "source": [
    "list_of_words = [\"this\",\"is\",\"a\",\"list\",\"of\",\"words\"]\n",
    "items = [word[0] for word in list_of_words ]\n",
    "print (items)"
   ]
  },
  {
   "cell_type": "code",
   "execution_count": 93,
   "metadata": {},
   "outputs": [
    {
     "name": "stdout",
     "output_type": "stream",
     "text": [
      "['apple', 'bat', 'cat']\n"
     ]
    }
   ],
   "source": [
    "words = [\"Apple\",\"Bat\",\"Cat\"]\n",
    "l_words = []\n",
    "for x in words:\n",
    "    l_words.append(x.lower())\n",
    "print (l_words)"
   ]
  },
  {
   "cell_type": "code",
   "execution_count": 94,
   "metadata": {},
   "outputs": [
    {
     "name": "stdout",
     "output_type": "stream",
     "text": [
      "['apple', 'bat', 'cat']\n"
     ]
    }
   ],
   "source": [
    "l_words2 =  [x.lower() for x in words]\n",
    "print (l_words2) "
   ]
  },
  {
   "cell_type": "code",
   "execution_count": 95,
   "metadata": {},
   "outputs": [],
   "source": [
    "movies = [\"Munich\", \"Start wars\", \"Gandhi\", \"The Dark Knight\",\n",
    "          \"Gone with the wind\", \"Troy\", \"300\", \"DDL\", \"Rear Window\",\n",
    "          \"Ground Day\", \"Avengers end game\",'The Prestige',]"
   ]
  },
  {
   "cell_type": "code",
   "execution_count": 96,
   "metadata": {},
   "outputs": [
    {
     "name": "stdout",
     "output_type": "stream",
     "text": [
      "['Gandhi', 'Gone with the wind', 'Ground Day']\n"
     ]
    }
   ],
   "source": [
    "gmovies = []\n",
    "for title in movies:\n",
    "    if title.startswith(\"G\"):\n",
    "        gmovies.append(title)\n",
    "print (gmovies)"
   ]
  },
  {
   "cell_type": "code",
   "execution_count": 97,
   "metadata": {},
   "outputs": [
    {
     "name": "stdout",
     "output_type": "stream",
     "text": [
      "['Gandhi', 'Gone with the wind', 'Ground Day']\n"
     ]
    }
   ],
   "source": [
    "gmovies = [title for title in movies if title.startswith(\"G\")]\n",
    "print (gmovies)"
   ]
  },
  {
   "cell_type": "code",
   "execution_count": 98,
   "metadata": {},
   "outputs": [],
   "source": [
    "movies = [(\"Munich\", 2005), (\"Start wars\", 1997), (\"Gandhi\", 1982), (\"The Dark Knight\", 2008),\n",
    "          (\"Gone with the wind\", 1939), (\"Troy\", 2004), (\"300\", 2007), (\"DDL\", 1995), (\"Rear Window\", 1954),\n",
    "          (\"Ground Day\", 1993), (\"Avengers end game\", 2019),('The Prestige', 2006),]"
   ]
  },
  {
   "cell_type": "code",
   "execution_count": 99,
   "metadata": {},
   "outputs": [
    {
     "name": "stdout",
     "output_type": "stream",
     "text": [
      "Start wars\n",
      "Gandhi\n",
      "Gone with the wind\n",
      "DDL\n",
      "Rear Window\n",
      "Ground Day\n"
     ]
    }
   ],
   "source": [
    "for index, title_year in enumerate(movies):\n",
    "    if title_year[1] < 2000:\n",
    "        print (title_year[0])\n"
   ]
  },
  {
   "cell_type": "code",
   "execution_count": 100,
   "metadata": {},
   "outputs": [
    {
     "name": "stdout",
     "output_type": "stream",
     "text": [
      "Start wars\n",
      "Gandhi\n",
      "Gone with the wind\n",
      "DDL\n",
      "Rear Window\n",
      "Ground Day\n"
     ]
    }
   ],
   "source": [
    "for title_year in movies:\n",
    "    if title_year[1] < 2000:\n",
    "        print (title_year[0])"
   ]
  },
  {
   "cell_type": "code",
   "execution_count": 101,
   "metadata": {},
   "outputs": [
    {
     "name": "stdout",
     "output_type": "stream",
     "text": [
      "['Start wars', 'Gandhi', 'Gone with the wind', 'DDL', 'Rear Window', 'Ground Day']\n"
     ]
    }
   ],
   "source": [
    "pre2k = [title for (title, year) in movies if year < 2000]\n",
    "print (pre2k)"
   ]
  },
  {
   "cell_type": "code",
   "execution_count": 102,
   "metadata": {},
   "outputs": [],
   "source": [
    "#Cartesian product\n",
    "A = [1,3,5,7]\n",
    "B = [2,4,6,8]\n"
   ]
  },
  {
   "cell_type": "code",
   "execution_count": 103,
   "metadata": {},
   "outputs": [
    {
     "name": "stdout",
     "output_type": "stream",
     "text": [
      "[(1, 2), (1, 4), (1, 6), (1, 8), (3, 2), (3, 4), (3, 6), (3, 8), (5, 2), (5, 4), (5, 6), (5, 8), (7, 2), (7, 4), (7, 6), (7, 8)]\n"
     ]
    }
   ],
   "source": [
    "cartesian_product = []\n",
    "for a in A:\n",
    "    for b in B:\n",
    "        cartesian_product.append((a, b))\n",
    "print (cartesian_product)"
   ]
  },
  {
   "cell_type": "code",
   "execution_count": 81,
   "metadata": {},
   "outputs": [
    {
     "name": "stdout",
     "output_type": "stream",
     "text": [
      "[(1, 2), (1, 4), (1, 6), (1, 8), (3, 2), (3, 4), (3, 6), (3, 8), (5, 2), (5, 4), (5, 6), (5, 8), (7, 2), (7, 4), (7, 6), (7, 8)]\n"
     ]
    }
   ],
   "source": [
    "#Cartesian product\n",
    "cartesian_product = [(a, b) for a in A for b in B]\n",
    "print (cartesian_product)"
   ]
  },
  {
   "cell_type": "code",
   "execution_count": 104,
   "metadata": {},
   "outputs": [
    {
     "name": "stdout",
     "output_type": "stream",
     "text": [
      "[1, 9, 25, 49, 81]\n"
     ]
    }
   ],
   "source": [
    "#odd_square\n",
    "odd_square = [] \n",
    "for x in range(1, 11): \n",
    "    if x % 2 == 1: \n",
    "        odd_square.append(x**2) \n",
    "print (odd_square) "
   ]
  },
  {
   "cell_type": "code",
   "execution_count": 105,
   "metadata": {},
   "outputs": [
    {
     "name": "stdout",
     "output_type": "stream",
     "text": [
      "[1, 9, 25, 49, 81]\n"
     ]
    }
   ],
   "source": [
    "odd_square = [x**2 for x in range(1, 11) if x % 2 == 1]\n",
    "print (odd_square)"
   ]
  },
  {
   "cell_type": "code",
   "execution_count": 106,
   "metadata": {},
   "outputs": [
    {
     "name": "stdout",
     "output_type": "stream",
     "text": [
      "['9', '6', '0', '4', '0', '2', '8', '9', '3', '2', '3']\n"
     ]
    }
   ],
   "source": [
    "# list which extracts number \n",
    "string = \"my phone number is : 96040289323 !!\"\n",
    "nums = []\n",
    "for s in string:\n",
    "    if s.isdigit():\n",
    "        nums.append(s)\n",
    "print (nums)    \n"
   ]
  },
  {
   "cell_type": "code",
   "execution_count": 84,
   "metadata": {},
   "outputs": [
    {
     "name": "stdout",
     "output_type": "stream",
     "text": [
      "['9', '6', '0', '4', '0', '2', '8', '9', '3', '2', '3']\n"
     ]
    }
   ],
   "source": [
    "nums = [s for s in string if s.isdigit()]\n",
    "print (nums)    \n"
   ]
  },
  {
   "cell_type": "code",
   "execution_count": null,
   "metadata": {},
   "outputs": [],
   "source": []
  }
 ],
 "metadata": {
  "kernelspec": {
   "display_name": "Python 3",
   "language": "python",
   "name": "python3"
  },
  "language_info": {
   "codemirror_mode": {
    "name": "ipython",
    "version": 3
   },
   "file_extension": ".py",
   "mimetype": "text/x-python",
   "name": "python",
   "nbconvert_exporter": "python",
   "pygments_lexer": "ipython3",
   "version": "3.7.3"
  }
 },
 "nbformat": 4,
 "nbformat_minor": 2
}
