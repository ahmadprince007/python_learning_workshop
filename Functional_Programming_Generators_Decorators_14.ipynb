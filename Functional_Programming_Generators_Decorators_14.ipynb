{
 "cells": [
  {
   "cell_type": "markdown",
   "metadata": {},
   "source": [
    "# <center>Generators</center>\n",
    "- **Generators** are a type of iterable, like lists or tuples. \n",
    "- Unlike lists, they don't allow indexing with arbitrary indices, but they can still be iterated through with for loops.\n",
    "- **Generators** can be created using functions and the yield statement.\n",
    "- Generator function contains one or more yield statement.\n",
    "- Generator functions return a generator object.\n",
    "- When called, it returns an object (iterator) but does not start execution immediately\n",
    "\n",
    "#### Why Generators\n",
    "##### Memory Efficient\n",
    "- A normal function to return a sequence will create the entire sequence in memory before returning the result. This is an overkill if the number of items in the sequence is very large.\n",
    "- Generator implementation of such sequence is memory friendly and is preferred since it only produces one item at a time.\n",
    "\n",
    "##### Represent Infinite Stream\n",
    "- Generators are excellent medium to represent an infinite stream of data. Infinite streams cannot be stored in memory and since generators produce only one item at a time, it can represent infinite stream of data."
   ]
  },
  {
   "cell_type": "code",
   "execution_count": 16,
   "metadata": {},
   "outputs": [],
   "source": [
    "def simple_generator(): \n",
    "    yield 1            \n",
    "    yield 2            \n",
    "    yield 3"
   ]
  },
  {
   "cell_type": "code",
   "execution_count": 209,
   "metadata": {
    "scrolled": true
   },
   "outputs": [
    {
     "name": "stdout",
     "output_type": "stream",
     "text": [
      "<function simple_generator at 0x058DB618>\n",
      "<generator object simple_generator at 0x058E7130>\n",
      "[1, 2, 3]\n"
     ]
    }
   ],
   "source": [
    "print (simple_generator)\n",
    "print (simple_generator())\n",
    "print (list(simple_generator()))"
   ]
  },
  {
   "cell_type": "code",
   "execution_count": 174,
   "metadata": {},
   "outputs": [
    {
     "name": "stdout",
     "output_type": "stream",
     "text": [
      "1\n",
      "2\n",
      "3\n"
     ]
    }
   ],
   "source": [
    "for value in simple_generator():  \n",
    "    print(value) "
   ]
  },
  {
   "cell_type": "markdown",
   "metadata": {},
   "source": [
    "- Iterating over the generator object using **\\_\\_next\\_\\_()** /next() "
   ]
  },
  {
   "cell_type": "code",
   "execution_count": 177,
   "metadata": {},
   "outputs": [
    {
     "name": "stdout",
     "output_type": "stream",
     "text": [
      "1\n",
      "2\n",
      "3\n"
     ]
    }
   ],
   "source": [
    "def simple_generator(): \n",
    "    yield 1\n",
    "    yield 2\n",
    "    yield 3\n",
    "   \n",
    "x = simple_generator() \n",
    "  \n",
    "print(x.__next__());  # In Python 2, next() \n",
    "print(x.__next__()); \n",
    "print(x.__next__()); \n",
    "#print(x.__next__()); \n"
   ]
  },
  {
   "cell_type": "code",
   "execution_count": 188,
   "metadata": {},
   "outputs": [],
   "source": [
    "def my_generator():\n",
    "    n = 1\n",
    "    print('This is printed first')\n",
    "    yield n\n",
    "\n",
    "    n += 1\n",
    "    print('This is printed second')\n",
    "    yield n\n",
    "\n",
    "    n += 1\n",
    "    print('This is printed at last')\n",
    "    yield n"
   ]
  },
  {
   "cell_type": "code",
   "execution_count": 189,
   "metadata": {},
   "outputs": [],
   "source": [
    "a = my_generator()\n"
   ]
  },
  {
   "cell_type": "code",
   "execution_count": 190,
   "metadata": {},
   "outputs": [
    {
     "name": "stdout",
     "output_type": "stream",
     "text": [
      "This is printed first\n"
     ]
    },
    {
     "data": {
      "text/plain": [
       "1"
      ]
     },
     "execution_count": 190,
     "metadata": {},
     "output_type": "execute_result"
    }
   ],
   "source": [
    "next(a)"
   ]
  },
  {
   "cell_type": "code",
   "execution_count": 191,
   "metadata": {},
   "outputs": [
    {
     "name": "stdout",
     "output_type": "stream",
     "text": [
      "This is printed second\n",
      "2\n",
      "This is printed at last\n",
      "3\n"
     ]
    }
   ],
   "source": [
    "print (next(a))\n",
    "print (a.__next__())"
   ]
  },
  {
   "cell_type": "code",
   "execution_count": 192,
   "metadata": {},
   "outputs": [
    {
     "name": "stdout",
     "output_type": "stream",
     "text": [
      "This is printed first\n",
      "1\n",
      "This is printed second\n",
      "2\n",
      "This is printed at last\n",
      "3\n"
     ]
    }
   ],
   "source": [
    "for item in my_generator():\n",
    "    print(item)"
   ]
  },
  {
   "cell_type": "code",
   "execution_count": 193,
   "metadata": {},
   "outputs": [
    {
     "name": "stdout",
     "output_type": "stream",
     "text": [
      "<generator object countdown at 0x058E7330>\n",
      "5\n",
      "4\n",
      "3\n",
      "2\n",
      "1\n"
     ]
    }
   ],
   "source": [
    "def countdown():\n",
    "  i=5\n",
    "  while i > 0:\n",
    "    yield i\n",
    "    i -= 1\n",
    "print (countdown())\n",
    "\n",
    "for i in countdown():\n",
    "  print(i)"
   ]
  },
  {
   "cell_type": "code",
   "execution_count": 194,
   "metadata": {},
   "outputs": [],
   "source": [
    "def infinite_sevens():\n",
    "  while True:\n",
    "    yield 7\n",
    "        \n",
    "#for i in infinite_sevens():\n",
    "#  print(i)"
   ]
  },
  {
   "cell_type": "code",
   "execution_count": 205,
   "metadata": {},
   "outputs": [],
   "source": [
    "def all_even():\n",
    "    n = 0\n",
    "    while True:\n",
    "        yield n\n",
    "        n += 2"
   ]
  },
  {
   "cell_type": "code",
   "execution_count": 207,
   "metadata": {
    "collapsed": true
   },
   "outputs": [
    {
     "name": "stdout",
     "output_type": "stream",
     "text": [
      "3 0\n",
      "4 2\n",
      "5 4\n",
      "6 6\n",
      "7 8\n",
      "8 10\n",
      "9 12\n",
      "10 14\n",
      "11 16\n",
      "12 18\n",
      "13 20\n",
      "14 22\n",
      "15 24\n",
      "16 26\n",
      "17 28\n",
      "18 30\n",
      "19 32\n",
      "20 34\n",
      "21 36\n",
      "22 38\n",
      "23 40\n",
      "24 42\n",
      "25 44\n",
      "26 46\n",
      "27 48\n",
      "28 50\n",
      "29 52\n",
      "30 54\n",
      "31 56\n",
      "32 58\n",
      "33 60\n",
      "34 62\n",
      "35 64\n",
      "36 66\n",
      "37 68\n",
      "38 70\n",
      "39 72\n",
      "40 74\n",
      "41 76\n",
      "42 78\n",
      "43 80\n",
      "44 82\n",
      "45 84\n",
      "46 86\n",
      "47 88\n",
      "48 90\n",
      "49 92\n",
      "50 94\n",
      "51 96\n",
      "52 98\n",
      "53 100\n",
      "54 102\n",
      "55 104\n",
      "56 106\n",
      "57 108\n",
      "58 110\n",
      "59 112\n",
      "60 114\n",
      "61 116\n",
      "62 118\n",
      "63 120\n",
      "64 122\n",
      "65 124\n",
      "66 126\n",
      "67 128\n",
      "68 130\n",
      "69 132\n",
      "70 134\n",
      "71 136\n",
      "72 138\n",
      "73 140\n",
      "74 142\n",
      "75 144\n",
      "76 146\n",
      "77 148\n",
      "78 150\n",
      "79 152\n",
      "80 154\n",
      "81 156\n",
      "82 158\n",
      "83 160\n",
      "84 162\n",
      "85 164\n",
      "86 166\n",
      "87 168\n",
      "88 170\n",
      "89 172\n",
      "90 174\n",
      "91 176\n",
      "92 178\n",
      "93 180\n",
      "94 182\n",
      "95 184\n",
      "96 186\n",
      "97 188\n",
      "98 190\n",
      "99 192\n",
      "100 194\n"
     ]
    }
   ],
   "source": [
    "x = all_even()\n",
    "#print (x.__next__())\n",
    "#print (x.__next__())\n",
    "for i in range(3, 101):\n",
    "    print (i, x.__next__())"
   ]
  },
  {
   "cell_type": "code",
   "execution_count": 202,
   "metadata": {
    "collapsed": true
   },
   "outputs": [
    {
     "name": "stdout",
     "output_type": "stream",
     "text": [
      "range(1, 10)\n",
      "3\n",
      "4\n",
      "5\n",
      "6\n",
      "7\n",
      "8\n",
      "9\n"
     ]
    }
   ],
   "source": [
    "print(range(1, 10))\n",
    "for i in range(3, 10):\n",
    "    print (i)"
   ]
  },
  {
   "cell_type": "markdown",
   "metadata": {},
   "source": [
    "- **Finite generators can be converted into lists by passing them as arguments to the list function.**"
   ]
  },
  {
   "cell_type": "code",
   "execution_count": 208,
   "metadata": {},
   "outputs": [
    {
     "name": "stdout",
     "output_type": "stream",
     "text": [
      "<function numbers at 0x053DCE40>\n",
      "<generator object numbers at 0x058E7BF0>\n",
      "[0, 2, 4, 6, 8, 10]\n"
     ]
    }
   ],
   "source": [
    "def numbers(x):\n",
    "  for i in range(x):\n",
    "    if i % 2 == 0:\n",
    "      yield i\n",
    "print (numbers)\n",
    "print (numbers(11))\n",
    "print(list(numbers(11)))"
   ]
  },
  {
   "cell_type": "markdown",
   "metadata": {},
   "source": [
    "- **Generator Expression**"
   ]
  },
  {
   "cell_type": "code",
   "execution_count": 210,
   "metadata": {},
   "outputs": [
    {
     "name": "stdout",
     "output_type": "stream",
     "text": [
      "[1, 9, 36, 100]\n"
     ]
    }
   ],
   "source": [
    "#list comprehension\n",
    "my_list = [1, 3, 6, 10]\n",
    "a = [x**2 for x in my_list]\n",
    "print (a )"
   ]
  },
  {
   "cell_type": "code",
   "execution_count": 223,
   "metadata": {},
   "outputs": [
    {
     "name": "stdout",
     "output_type": "stream",
     "text": [
      "<generator object <genexpr> at 0x059041F0>\n"
     ]
    }
   ],
   "source": [
    "#generator expression\n",
    "my_list = [1, 3, 6, 10]\n",
    "a = (x**2 for x in my_list)\n",
    "my_list[1]  = 4\n",
    "print (a)"
   ]
  },
  {
   "cell_type": "code",
   "execution_count": 224,
   "metadata": {},
   "outputs": [
    {
     "name": "stdout",
     "output_type": "stream",
     "text": [
      "1\n",
      "16\n",
      "36\n"
     ]
    }
   ],
   "source": [
    "print(a.__next__())\n",
    "print(a.__next__())\n",
    "print(a.__next__())\n"
   ]
  },
  {
   "cell_type": "code",
   "execution_count": 216,
   "metadata": {},
   "outputs": [
    {
     "name": "stdout",
     "output_type": "stream",
     "text": [
      "1\n",
      "9\n",
      "36\n",
      "100\n"
     ]
    }
   ],
   "source": [
    "a = (x**2 for x in my_list)\n",
    "for x in a:\n",
    "    print (x)"
   ]
  },
  {
   "cell_type": "code",
   "execution_count": 217,
   "metadata": {},
   "outputs": [
    {
     "data": {
      "text/plain": [
       "146"
      ]
     },
     "execution_count": 217,
     "metadata": {},
     "output_type": "execute_result"
    }
   ],
   "source": [
    "sum(x**2 for x in my_list)"
   ]
  },
  {
   "cell_type": "code",
   "execution_count": 218,
   "metadata": {},
   "outputs": [
    {
     "data": {
      "text/plain": [
       "[1, 9, 36, 100]"
      ]
     },
     "execution_count": 218,
     "metadata": {},
     "output_type": "execute_result"
    }
   ],
   "source": [
    "x = (x**2 for x in my_list)\n",
    "list(x)"
   ]
  },
  {
   "cell_type": "code",
   "execution_count": 219,
   "metadata": {},
   "outputs": [
    {
     "data": {
      "text/plain": [
       "[1, 9, 36, 100]"
      ]
     },
     "execution_count": 219,
     "metadata": {},
     "output_type": "execute_result"
    }
   ],
   "source": [
    "list((x**2 for x in my_list))"
   ]
  },
  {
   "cell_type": "code",
   "execution_count": 220,
   "metadata": {},
   "outputs": [
    {
     "name": "stdout",
     "output_type": "stream",
     "text": [
      "1\n",
      "9\n",
      "36\n",
      "100\n"
     ]
    }
   ],
   "source": [
    "x = (x**2 for x in my_list)\n",
    "for i in x:\n",
    "    print (i)"
   ]
  },
  {
   "cell_type": "code",
   "execution_count": null,
   "metadata": {},
   "outputs": [],
   "source": [
    "my_list = (x**2 for x in my_list)"
   ]
  },
  {
   "cell_type": "markdown",
   "metadata": {},
   "source": [
    "# <center>Decorators</center>\n",
    "- Decorators provide a way to modify functions using other functions. \n",
    "- Decorators, functions are taken as the argument into another function and then called inside the wrapper function."
   ]
  },
  {
   "cell_type": "code",
   "execution_count": 225,
   "metadata": {},
   "outputs": [
    {
     "name": "stdout",
     "output_type": "stream",
     "text": [
      "Hello world!\n"
     ]
    }
   ],
   "source": [
    "def print_text():\n",
    "  print(\"Hello world!\")\n",
    "print_text()"
   ]
  },
  {
   "cell_type": "code",
   "execution_count": 228,
   "metadata": {},
   "outputs": [],
   "source": [
    "def decor(func):\n",
    "  def wrapx():\n",
    "    print(\"============\")\n",
    "    func()\n",
    "    print(\"============\")\n",
    "  return wrapx\n"
   ]
  },
  {
   "cell_type": "code",
   "execution_count": 229,
   "metadata": {},
   "outputs": [
    {
     "name": "stdout",
     "output_type": "stream",
     "text": [
      "============\n",
      "Hello world!\n",
      "============\n"
     ]
    }
   ],
   "source": [
    "def print_text():\n",
    "  print(\"Hello world!\")\n",
    "\n",
    "decorated = decor(print_text)\n",
    "decorated()"
   ]
  },
  {
   "cell_type": "code",
   "execution_count": 232,
   "metadata": {},
   "outputs": [],
   "source": [
    "@decor\n",
    "def print_text1():\n",
    "  print(\"Hello worlds\")"
   ]
  },
  {
   "cell_type": "code",
   "execution_count": 233,
   "metadata": {},
   "outputs": [
    {
     "name": "stdout",
     "output_type": "stream",
     "text": [
      "============\n",
      "Hello worlds\n",
      "============\n"
     ]
    }
   ],
   "source": [
    "print_text1()"
   ]
  },
  {
   "cell_type": "code",
   "execution_count": 159,
   "metadata": {},
   "outputs": [],
   "source": [
    "def hello_decorator(func): \n",
    "  \n",
    "    #wrapper function. \n",
    "    def inner_func(): \n",
    "        print(\"Hello, this is before function execution\\n\") \n",
    "  \n",
    "        #calling the actual function now \n",
    "        func() \n",
    "  \n",
    "        print(\"\\nThis is after function execution\\n\") \n",
    "          \n",
    "    return inner_func \n",
    "  \n",
    "  \n",
    "@hello_decorator\n",
    "def hello_python(): \n",
    "    print(\"Everything is a object in Python\") \n",
    "\n",
    "@hello_decorator\n",
    "def hello_decorator(): \n",
    "    print(\"Decorator allows programmers to modify the behavior of function or class\") \n"
   ]
  },
  {
   "cell_type": "code",
   "execution_count": 234,
   "metadata": {},
   "outputs": [
    {
     "name": "stdout",
     "output_type": "stream",
     "text": [
      "Hello, this is before function execution\n",
      "\n",
      "Everything is a object in Python\n",
      "\n",
      "This is after function execution\n",
      "\n"
     ]
    }
   ],
   "source": [
    "hello_python() "
   ]
  },
  {
   "cell_type": "code",
   "execution_count": 235,
   "metadata": {},
   "outputs": [
    {
     "name": "stdout",
     "output_type": "stream",
     "text": [
      "Hello, this is before function execution\n",
      "\n",
      "Decorator allows programmers to modify the behavior of function or class\n",
      "\n",
      "This is after function execution\n",
      "\n"
     ]
    }
   ],
   "source": [
    "hello_decorator()"
   ]
  },
  {
   "cell_type": "code",
   "execution_count": 237,
   "metadata": {},
   "outputs": [],
   "source": [
    "import time \n",
    "import math \n",
    "  \n",
    "def calculate_time(func):\n",
    "    def wraper_func(*args, **kwargs): \n",
    "        begin = time.time() \n",
    "        func(*args, **kwargs) \n",
    "        end = time.time() \n",
    "\n",
    "        print(\"Total time taken in : \", func.__name__, end - begin) \n",
    "  \n",
    "    return wraper_func "
   ]
  },
  {
   "cell_type": "code",
   "execution_count": 238,
   "metadata": {},
   "outputs": [],
   "source": [
    "@calculate_time\n",
    "def factorial(num):\n",
    "    time.sleep(2) \n",
    "    print(math.factorial(num)) "
   ]
  },
  {
   "cell_type": "code",
   "execution_count": 242,
   "metadata": {},
   "outputs": [
    {
     "name": "stdout",
     "output_type": "stream",
     "text": [
      "30414093201713378043612608166064768844377641568960512000000000000\n",
      "Total time taken in :  factorial 2.0\n"
     ]
    }
   ],
   "source": [
    "factorial(50) "
   ]
  },
  {
   "cell_type": "code",
   "execution_count": null,
   "metadata": {},
   "outputs": [],
   "source": []
  }
 ],
 "metadata": {
  "kernelspec": {
   "display_name": "Python 3",
   "language": "python",
   "name": "python3"
  },
  "language_info": {
   "codemirror_mode": {
    "name": "ipython",
    "version": 3
   },
   "file_extension": ".py",
   "mimetype": "text/x-python",
   "name": "python",
   "nbconvert_exporter": "python",
   "pygments_lexer": "ipython3",
   "version": "3.7.3"
  }
 },
 "nbformat": 4,
 "nbformat_minor": 2
}
